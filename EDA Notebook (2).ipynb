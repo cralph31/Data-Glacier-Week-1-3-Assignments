{
 "cells": [
  {
   "attachments": {
    "ff78909d-7e4a-4b23-a603-0a312d9b0114.png": {
     "image/png": "[encoded data removed]"
    }
   },
   "cell_type": "markdown",
   "id": "a576d49e-6608-4e87-9673-6fead05f1dbf",
   "metadata": {},
   "source": [
    "![image.png](attachment:ff78909d-7e4a-4b23-a603-0a312d9b0114.png)\n",
    "\n",
    "# Exploratory Data Analysis Report\n",
    "----------------------------------\n",
    "## G2M Case Study for Cab Investment\n",
    "\n",
    "### Software/Programming Used: JupyterLab, Python, A.I.\n",
    "\n",
    "## Report By: Carmelo R. Casiraro- USA\n",
    "\n",
    "## LISUM34- Data Glacier Internship- 06/03/2024\n",
    "---------------------------------------"
   ]
  },
  {
   "cell_type": "markdown",
   "id": "6fff9422-3585-45eb-8a33-c025b377a7ca",
   "metadata": {},
   "source": [
    "## Background of G2M Cab Industry\n",
    "-------------------\n",
    "XYZ, a private firm in the US, is considering an investment in the cab industry as their Go-To-Market strategy (G2M) and they want to learn more about their market. \n",
    "\n",
    "## Objective\n",
    "------------\n",
    "To share insights from multiple datasets to identify the right cab company to invest in. \n",
    "\n",
    "The analysis involves: \n",
    "- Cab Data Understanding\n",
    "- Disclosure of profits and number of rides with different cab types\n",
    "- Identifying the most profitable cab company\n",
    "- Recommendations & Conclusions- Answers to Hypothesis/Questions\n",
    "- Which Cab To Go With for Future Investment?  \n",
    "\n",
    "## Goal of Report \n",
    "-----------------\n",
    "- The goal is to create a presentation with visualizations, analysis, and recommendations/conclusions based on the data provided.\n"
   ]
  },
  {
   "cell_type": "markdown",
   "id": "a2900c55-877e-4380-884b-78b77ee14716",
   "metadata": {},
   "source": [
    "## Data Exploration\n",
    "-------------------\n",
    "- \r\n",
    "Timeframe of the data: 2016-01-31 to 2018-12-\n",
    "- Total Data points:  \n",
    "  - These are the following data sets that will be used in this analysis:\n",
    "   - *Cab_Data.csv*: Contains transaction details for two different cab companies.\n",
    "   - *Customer_ID.csv*: Contains unique identifiers linking passenger demographic \n",
    "      details.\n",
    "   - *Transaction_ID.csv*: Maps transactions to passengers and includes payment \n",
    "      modes.\n",
    "   - *City.csv*: Lists US cities, their populations, and number of cab users.\n",
    "   - *US_Holiday_Dates.csv* - this file contains information about the month and \n",
    "      year of certain holidays in the US.\n",
    ",032"
   ]
  },
  {
   "cell_type": "markdown",
   "id": "efbcf54a-667e-401c-a23b-0f59bcf9c88e",
   "metadata": {},
   "source": [
    "----------------------------\n",
    "## Questions\n",
    "----------------------------\n",
    "- What is the profit according to distance, year and city with each cab company?\n",
    "- What is the yearly profit by each cab company?\n",
    "- How does gender play a role in the profit gained per cab company?\n",
    "- How does passenger income levels play a difference in the profit? \n",
    "- What is the profit share, if we look at the age of each passenger?\n",
    "- What is the retention rate of passengers by cab company?\n",
    "- What are the number of passengers taken by each cab company?\n",
    "- What are the quarterly profits by each cab company from 2016-2018?\n",
    "- What are the top 3 cities that have the highest numbers of passengers in the US?\n",
    "- How does the season affect the number of passengers using the cab service?\n",
    "- Which company has the highest amount of passengers at one time?\n",
    "- Does profit increase with the number of passengers?\n",
    "- Which cab company is recommended for future investments?  \n",
    "\n",
    "## Hypothesis\n",
    "- *Seasonal Holiday Passenger Preference*: There is a seasonal trend in cab usage, with higher usage during certain months of the year.\n",
    "- *Passenger Distribution*: One cab company has a higher number of passengers in specific cities.\n",
    "- *Passenger Attributes*: Certain passenger demographics are more likely to use one cab company over the other.\n",
    "- *Profit Trends*: The amount of money brought in per passenger increases with the frequency of cab usage.\n",
    "- *Future Ride & Profit Forecast*: The number of rides and profit will increase in 2019 for both companies.\n",
    "----------------------------"
   ]
  },
  {
   "cell_type": "code",
   "execution_count": null,
   "id": "236a3c41-b4e3-42d4-9d9e-2bd33cf7d8a4",
   "metadata": {},
   "outputs": [],
   "source": [
    "#Python code to retrieve the data and create the chart\n",
    "import pandas as pd\n",
    "import matplotlib.pyplot as plt\n",
    "\n",
    "# Retrievng the datasets\n",
    "url = 'https://example.com/dataset.csv'\n",
    "dataset = pd.read_csv(url)\n",
    "url = 'https://example.com/dataset.csv'\n",
    "dataset = pd.read_csv(url)\n",
    "url = 'https://example.com/dataset.csv'\n",
    "dataset = pd.read_csv(url)\n",
    "url = 'https://example.com/dataset.csv'\n",
    "dataset = pd.read_csv(url)\n",
    "url = 'https://example.com/dataset.csv'\n",
    "dataset = pd.read_csv(url)\n"
   ]
  },
  {
   "cell_type": "code",
   "execution_count": null,
   "id": "46236cac-4a95-47d1-aa05-e38e6e06909b",
   "metadata": {},
   "outputs": [],
   "source": [
    "import matplotlib.pyplot as plt\n",
    "\n",
    "# Calculate profit\n",
    "cab_data['Profit'] = cab_data['Price Charged'] - cab_data['Cost of Trip']\n",
    "\n",
    "# Aggregate profit by company for the analysis\n",
    "profit_by_company = cab_data.groupby('Company')['Profit'].sum().reset_index()\n",
    "\n",
    "# Plotting the profit analysis\n",
    "plt.figure(figsize=(10, 6))\n",
    "plt.bar(profit_by_company['Company'], profit_by_company['Profit'], color='skyblue')\n",
    "plt.xlabel('Company')\n",
    "plt.ylabel('Total Profit')\n",
    "plt.title('Profit Analysis by Company')\n",
    "plt.xticks(rotation=45)\n",
    "plt.tight_layout()\n",
    "\n",
    "# Display the chart\n",
    "plt.show()\n"
   ]
  },
  {
   "cell_type": "markdown",
   "id": "9dd2ad32-a95c-4905-8766-713260d64a83",
   "metadata": {},
   "source": [
    "## Profit Chart Analysis\n",
    "------------------------"
   ]
  },
  {
   "attachments": {
    "4b6fef67-29fb-48f3-b161-294d1af131e6.png": {
     "image/png": "[encoded data removed]"
    }
   },
   "cell_type": "markdown",
   "id": "cd58b3c9-b284-4fb4-8c45-a10b1b717c3d",
   "metadata": {},
   "source": [
    "![Profit Analysis by Company.png](attachment:4b6fef67-29fb-48f3-b161-294d1af131e6.png)\n",
    "- Here is the profit analysis chart by company. It shows the total profit for each cab company."
   ]
  },
  {
   "cell_type": "code",
   "execution_count": null,
   "id": "e3662bc4-460c-4b43-9aaf-158129db21b3",
   "metadata": {},
   "outputs": [],
   "source": [
    "#Python code to retrieve the data and create the chart\n"
   ]
  },
  {
   "cell_type": "code",
   "execution_count": null,
   "id": "1a86e62c-0220-4db3-8c76-a0df52ccaf73",
   "metadata": {},
   "outputs": [],
   "source": [
    "# Merge cab_data with transaction_data on 'Transaction ID'\n",
    "merged_data = pd.merge(cab_data, transaction_data, on='Transaction ID')\n",
    "\n",
    "# Merge the result with customer_data on 'Customer ID'\n",
    "merged_data = pd.merge(merged_data, customer_data, on='Customer ID')\n",
    "\n",
    "# Calculate profit for each transaction\n",
    "merged_data['Profit'] = merged_data['Price Charged'] - merged_data['Cost of Trip']\n",
    "\n",
    "# Categorize customers into income classes\n",
    "income_bins = [0, 3000, 7000, 15000, 25000, float('inf')]\n",
    "income_labels = ['0-3000', '3001-7000', '7001-15000', '15001-25000', '25001+']\n",
    "merged_data['Income Class'] = pd.cut(merged_data['Income (USD/Month)'], bins=income_bins, labels=income_labels, right=False)\n",
    "\n",
    "# Analyze profit based on income classes\n",
    "income_class_profit = merged_data.groupby('Income Class')['Profit'].sum().reset_index()\n",
    "\n",
    "import matplotlib.pyplot as plt\n",
    "\n",
    "# Plot the income class profit analysis\n",
    "plt.figure(figsize=(10, 6))\n",
    "plt.bar(income_class_profit['Income Class'], income_class_profit['Profit'], color='skyblue')\n",
    "plt.xlabel('Income Class (USD/Month)')\n",
    "plt.ylabel('Total Profit (USD)')\n",
    "plt.title('Income Class Profit Analysis')\n",
    "plt.xticks(rotation=45)\n",
    "plt.grid(axis='y')\n",
    "\n",
    "plt.show()\n"
   ]
  },
  {
   "attachments": {
    "150da30d-f2f1-4d0c-b401-b1d59a9ab05e.png": {
     "image/png": "[encoded data removed]"
    }
   },
   "cell_type": "markdown",
   "id": "cc147d3d-c06d-4ab7-aab8-1e33c8141f1a",
   "metadata": {},
   "source": [
    "## Income Class Profit Chart Analysis\n",
    "-------------------------------------\n",
    "![Income Class Profit Analysis.png](attachment:150da30d-f2f1-4d0c-b401-b1d59a9ab05e.png)\n",
    "- The bar chart shows the total profit generated from passengers in different income classes."
   ]
  },
  {
   "cell_type": "code",
   "execution_count": null,
   "id": "93fc6aa3-6d83-410d-baa9-459bb48e87fe",
   "metadata": {},
   "outputs": [],
   "source": [
    "#Python code to retrieve the data and create the chart\n"
   ]
  },
  {
   "cell_type": "markdown",
   "id": "1728eb6e-db30-4fe7-8da5-0d44c19dc647",
   "metadata": {},
   "source": [
    "## Profit Share By Age vs. % of Customers By Age Chart Analysis\n",
    "-------------------------------------------------------\n",
    "#image of chart here"
   ]
  },
  {
   "cell_type": "code",
   "execution_count": 101,
   "id": "77c7f3bc-1ed0-48b3-8dc0-c3556657f941",
   "metadata": {},
   "outputs": [
    {
     "ename": "FileNotFoundError",
     "evalue": "[Errno 2] No such file or directory: 'Cab_Data.csv'",
     "output_type": "error",
     "traceback": [
      "\u001b[0;31m---------------------------------------------------------------------------\u001b[0m",
      "\u001b[0;31mFileNotFoundError\u001b[0m                         Traceback (most recent call last)",
      "Cell \u001b[0;32mIn[101], line 6\u001b[0m\n\u001b[1;32m      3\u001b[0m \u001b[38;5;28;01mimport\u001b[39;00m \u001b[38;5;21;01mpandas\u001b[39;00m \u001b[38;5;28;01mas\u001b[39;00m \u001b[38;5;21;01mpd\u001b[39;00m\n\u001b[1;32m      5\u001b[0m \u001b[38;5;66;03m# Load datasets\u001b[39;00m\n\u001b[0;32m----> 6\u001b[0m cab_data \u001b[38;5;241m=\u001b[39m pd\u001b[38;5;241m.\u001b[39mread_csv(\u001b[38;5;124m'\u001b[39m\u001b[38;5;124mCab_Data.csv\u001b[39m\u001b[38;5;124m'\u001b[39m)\n\u001b[1;32m      7\u001b[0m transaction_id \u001b[38;5;241m=\u001b[39m pd\u001b[38;5;241m.\u001b[39mread_csv(\u001b[38;5;124m'\u001b[39m\u001b[38;5;124mTransaction_ID.csv\u001b[39m\u001b[38;5;124m'\u001b[39m)\n\u001b[1;32m      8\u001b[0m customer_id \u001b[38;5;241m=\u001b[39m pd\u001b[38;5;241m.\u001b[39mread_csv(\u001b[38;5;124m'\u001b[39m\u001b[38;5;124mCustomer_ID.csv\u001b[39m\u001b[38;5;124m'\u001b[39m)\n",
      "File \u001b[0;32m/opt/conda/envs/anaconda-panel-2023.05-py310/lib/python3.11/site-packages/pandas/io/parsers/readers.py:912\u001b[0m, in \u001b[0;36mread_csv\u001b[0;34m(filepath_or_buffer, sep, delimiter, header, names, index_col, usecols, dtype, engine, converters, true_values, false_values, skipinitialspace, skiprows, skipfooter, nrows, na_values, keep_default_na, na_filter, verbose, skip_blank_lines, parse_dates, infer_datetime_format, keep_date_col, date_parser, date_format, dayfirst, cache_dates, iterator, chunksize, compression, thousands, decimal, lineterminator, quotechar, quoting, doublequote, escapechar, comment, encoding, encoding_errors, dialect, on_bad_lines, delim_whitespace, low_memory, memory_map, float_precision, storage_options, dtype_backend)\u001b[0m\n\u001b[1;32m    899\u001b[0m kwds_defaults \u001b[38;5;241m=\u001b[39m _refine_defaults_read(\n\u001b[1;32m    900\u001b[0m     dialect,\n\u001b[1;32m    901\u001b[0m     delimiter,\n\u001b[0;32m   (...)\u001b[0m\n\u001b[1;32m    908\u001b[0m     dtype_backend\u001b[38;5;241m=\u001b[39mdtype_backend,\n\u001b[1;32m    909\u001b[0m )\n\u001b[1;32m    910\u001b[0m kwds\u001b[38;5;241m.\u001b[39mupdate(kwds_defaults)\n\u001b[0;32m--> 912\u001b[0m \u001b[38;5;28;01mreturn\u001b[39;00m _read(filepath_or_buffer, kwds)\n",
      "File \u001b[0;32m/opt/conda/envs/anaconda-panel-2023.05-py310/lib/python3.11/site-packages/pandas/io/parsers/readers.py:577\u001b[0m, in \u001b[0;36m_read\u001b[0;34m(filepath_or_buffer, kwds)\u001b[0m\n\u001b[1;32m    574\u001b[0m _validate_names(kwds\u001b[38;5;241m.\u001b[39mget(\u001b[38;5;124m\"\u001b[39m\u001b[38;5;124mnames\u001b[39m\u001b[38;5;124m\"\u001b[39m, \u001b[38;5;28;01mNone\u001b[39;00m))\n\u001b[1;32m    576\u001b[0m \u001b[38;5;66;03m# Create the parser.\u001b[39;00m\n\u001b[0;32m--> 577\u001b[0m parser \u001b[38;5;241m=\u001b[39m TextFileReader(filepath_or_buffer, \u001b[38;5;241m*\u001b[39m\u001b[38;5;241m*\u001b[39mkwds)\n\u001b[1;32m    579\u001b[0m \u001b[38;5;28;01mif\u001b[39;00m chunksize \u001b[38;5;129;01mor\u001b[39;00m iterator:\n\u001b[1;32m    580\u001b[0m     \u001b[38;5;28;01mreturn\u001b[39;00m parser\n",
      "File \u001b[0;32m/opt/conda/envs/anaconda-panel-2023.05-py310/lib/python3.11/site-packages/pandas/io/parsers/readers.py:1407\u001b[0m, in \u001b[0;36mTextFileReader.__init__\u001b[0;34m(self, f, engine, **kwds)\u001b[0m\n\u001b[1;32m   1404\u001b[0m     \u001b[38;5;28mself\u001b[39m\u001b[38;5;241m.\u001b[39moptions[\u001b[38;5;124m\"\u001b[39m\u001b[38;5;124mhas_index_names\u001b[39m\u001b[38;5;124m\"\u001b[39m] \u001b[38;5;241m=\u001b[39m kwds[\u001b[38;5;124m\"\u001b[39m\u001b[38;5;124mhas_index_names\u001b[39m\u001b[38;5;124m\"\u001b[39m]\n\u001b[1;32m   1406\u001b[0m \u001b[38;5;28mself\u001b[39m\u001b[38;5;241m.\u001b[39mhandles: IOHandles \u001b[38;5;241m|\u001b[39m \u001b[38;5;28;01mNone\u001b[39;00m \u001b[38;5;241m=\u001b[39m \u001b[38;5;28;01mNone\u001b[39;00m\n\u001b[0;32m-> 1407\u001b[0m \u001b[38;5;28mself\u001b[39m\u001b[38;5;241m.\u001b[39m_engine \u001b[38;5;241m=\u001b[39m \u001b[38;5;28mself\u001b[39m\u001b[38;5;241m.\u001b[39m_make_engine(f, \u001b[38;5;28mself\u001b[39m\u001b[38;5;241m.\u001b[39mengine)\n",
      "File \u001b[0;32m/opt/conda/envs/anaconda-panel-2023.05-py310/lib/python3.11/site-packages/pandas/io/parsers/readers.py:1661\u001b[0m, in \u001b[0;36mTextFileReader._make_engine\u001b[0;34m(self, f, engine)\u001b[0m\n\u001b[1;32m   1659\u001b[0m     \u001b[38;5;28;01mif\u001b[39;00m \u001b[38;5;124m\"\u001b[39m\u001b[38;5;124mb\u001b[39m\u001b[38;5;124m\"\u001b[39m \u001b[38;5;129;01mnot\u001b[39;00m \u001b[38;5;129;01min\u001b[39;00m mode:\n\u001b[1;32m   1660\u001b[0m         mode \u001b[38;5;241m+\u001b[39m\u001b[38;5;241m=\u001b[39m \u001b[38;5;124m\"\u001b[39m\u001b[38;5;124mb\u001b[39m\u001b[38;5;124m\"\u001b[39m\n\u001b[0;32m-> 1661\u001b[0m \u001b[38;5;28mself\u001b[39m\u001b[38;5;241m.\u001b[39mhandles \u001b[38;5;241m=\u001b[39m get_handle(\n\u001b[1;32m   1662\u001b[0m     f,\n\u001b[1;32m   1663\u001b[0m     mode,\n\u001b[1;32m   1664\u001b[0m     encoding\u001b[38;5;241m=\u001b[39m\u001b[38;5;28mself\u001b[39m\u001b[38;5;241m.\u001b[39moptions\u001b[38;5;241m.\u001b[39mget(\u001b[38;5;124m\"\u001b[39m\u001b[38;5;124mencoding\u001b[39m\u001b[38;5;124m\"\u001b[39m, \u001b[38;5;28;01mNone\u001b[39;00m),\n\u001b[1;32m   1665\u001b[0m     compression\u001b[38;5;241m=\u001b[39m\u001b[38;5;28mself\u001b[39m\u001b[38;5;241m.\u001b[39moptions\u001b[38;5;241m.\u001b[39mget(\u001b[38;5;124m\"\u001b[39m\u001b[38;5;124mcompression\u001b[39m\u001b[38;5;124m\"\u001b[39m, \u001b[38;5;28;01mNone\u001b[39;00m),\n\u001b[1;32m   1666\u001b[0m     memory_map\u001b[38;5;241m=\u001b[39m\u001b[38;5;28mself\u001b[39m\u001b[38;5;241m.\u001b[39moptions\u001b[38;5;241m.\u001b[39mget(\u001b[38;5;124m\"\u001b[39m\u001b[38;5;124mmemory_map\u001b[39m\u001b[38;5;124m\"\u001b[39m, \u001b[38;5;28;01mFalse\u001b[39;00m),\n\u001b[1;32m   1667\u001b[0m     is_text\u001b[38;5;241m=\u001b[39mis_text,\n\u001b[1;32m   1668\u001b[0m     errors\u001b[38;5;241m=\u001b[39m\u001b[38;5;28mself\u001b[39m\u001b[38;5;241m.\u001b[39moptions\u001b[38;5;241m.\u001b[39mget(\u001b[38;5;124m\"\u001b[39m\u001b[38;5;124mencoding_errors\u001b[39m\u001b[38;5;124m\"\u001b[39m, \u001b[38;5;124m\"\u001b[39m\u001b[38;5;124mstrict\u001b[39m\u001b[38;5;124m\"\u001b[39m),\n\u001b[1;32m   1669\u001b[0m     storage_options\u001b[38;5;241m=\u001b[39m\u001b[38;5;28mself\u001b[39m\u001b[38;5;241m.\u001b[39moptions\u001b[38;5;241m.\u001b[39mget(\u001b[38;5;124m\"\u001b[39m\u001b[38;5;124mstorage_options\u001b[39m\u001b[38;5;124m\"\u001b[39m, \u001b[38;5;28;01mNone\u001b[39;00m),\n\u001b[1;32m   1670\u001b[0m )\n\u001b[1;32m   1671\u001b[0m \u001b[38;5;28;01massert\u001b[39;00m \u001b[38;5;28mself\u001b[39m\u001b[38;5;241m.\u001b[39mhandles \u001b[38;5;129;01mis\u001b[39;00m \u001b[38;5;129;01mnot\u001b[39;00m \u001b[38;5;28;01mNone\u001b[39;00m\n\u001b[1;32m   1672\u001b[0m f \u001b[38;5;241m=\u001b[39m \u001b[38;5;28mself\u001b[39m\u001b[38;5;241m.\u001b[39mhandles\u001b[38;5;241m.\u001b[39mhandle\n",
      "File \u001b[0;32m/opt/conda/envs/anaconda-panel-2023.05-py310/lib/python3.11/site-packages/pandas/io/common.py:859\u001b[0m, in \u001b[0;36mget_handle\u001b[0;34m(path_or_buf, mode, encoding, compression, memory_map, is_text, errors, storage_options)\u001b[0m\n\u001b[1;32m    854\u001b[0m \u001b[38;5;28;01melif\u001b[39;00m \u001b[38;5;28misinstance\u001b[39m(handle, \u001b[38;5;28mstr\u001b[39m):\n\u001b[1;32m    855\u001b[0m     \u001b[38;5;66;03m# Check whether the filename is to be opened in binary mode.\u001b[39;00m\n\u001b[1;32m    856\u001b[0m     \u001b[38;5;66;03m# Binary mode does not support 'encoding' and 'newline'.\u001b[39;00m\n\u001b[1;32m    857\u001b[0m     \u001b[38;5;28;01mif\u001b[39;00m ioargs\u001b[38;5;241m.\u001b[39mencoding \u001b[38;5;129;01mand\u001b[39;00m \u001b[38;5;124m\"\u001b[39m\u001b[38;5;124mb\u001b[39m\u001b[38;5;124m\"\u001b[39m \u001b[38;5;129;01mnot\u001b[39;00m \u001b[38;5;129;01min\u001b[39;00m ioargs\u001b[38;5;241m.\u001b[39mmode:\n\u001b[1;32m    858\u001b[0m         \u001b[38;5;66;03m# Encoding\u001b[39;00m\n\u001b[0;32m--> 859\u001b[0m         handle \u001b[38;5;241m=\u001b[39m \u001b[38;5;28mopen\u001b[39m(\n\u001b[1;32m    860\u001b[0m             handle,\n\u001b[1;32m    861\u001b[0m             ioargs\u001b[38;5;241m.\u001b[39mmode,\n\u001b[1;32m    862\u001b[0m             encoding\u001b[38;5;241m=\u001b[39mioargs\u001b[38;5;241m.\u001b[39mencoding,\n\u001b[1;32m    863\u001b[0m             errors\u001b[38;5;241m=\u001b[39merrors,\n\u001b[1;32m    864\u001b[0m             newline\u001b[38;5;241m=\u001b[39m\u001b[38;5;124m\"\u001b[39m\u001b[38;5;124m\"\u001b[39m,\n\u001b[1;32m    865\u001b[0m         )\n\u001b[1;32m    866\u001b[0m     \u001b[38;5;28;01melse\u001b[39;00m:\n\u001b[1;32m    867\u001b[0m         \u001b[38;5;66;03m# Binary mode\u001b[39;00m\n\u001b[1;32m    868\u001b[0m         handle \u001b[38;5;241m=\u001b[39m \u001b[38;5;28mopen\u001b[39m(handle, ioargs\u001b[38;5;241m.\u001b[39mmode)\n",
      "\u001b[0;31mFileNotFoundError\u001b[0m: [Errno 2] No such file or directory: 'Cab_Data.csv'"
     ]
    }
   ],
   "source": [
    "#Python code to retrieve the data and create the chart\n",
    "\n",
    "import pandas as pd\n",
    "\n",
    "# Load datasets\n",
    "cab_data = pd.read_csv('Cab_Data.csv')\n",
    "transaction_id = pd.read_csv('Transaction_ID.csv')\n",
    "customer_id = pd.read_csv('Customer_ID.csv')\n",
    "\n",
    "# Merge datasets to get complete transaction data with customer details\n",
    "merged_data = cab_data.merge(transaction_id, on='Transaction ID')\n",
    "merged_data = merged_data.merge(customer_id, on='Customer ID')\n",
    "\n",
    "# Convert 'Date of Travel' to a datetime format\n",
    "merged_data['Date of Travel'] = pd.to_datetime(merged_data['Date of Travel'], origin='1899-12-30', unit='D')\n",
    "\n",
    "# Extract month and year for retention analysis\n",
    "merged_data['YearMonth'] = merged_data['Date of Travel'].dt.to_period('M')\n",
    "\n",
    "# Identify the first month each customer used the service\n",
    "first_purchase = merged_data.groupby('Customer ID')['YearMonth'].min().reset_index()\n",
    "first_purchase.columns = ['Customer ID', 'FirstPurchaseMonth']\n",
    "\n",
    "# Merge first purchase month back into the main dataset\n",
    "merged_data = merged_data.merge(first_purchase, on='Customer ID')\n",
    "\n",
    "# Identify customers who made repeat purchases\n",
    "repeat_customers = merged_data[merged_data['YearMonth'] != merged_data['FirstPurchaseMonth']]\n",
    "\n",
    "# Calculate retention rate by month\n",
    "retention_by_month = repeat_customers.groupby('YearMonth')['Customer ID'].nunique().reset_index()\n",
    "total_customers_by_month = merged_data.groupby('YearMonth')['Customer ID'].nunique().reset_index()\n",
    "\n",
    "# Merge data to calculate retention rate\n",
    "retention_analysis = retention_by_month.merge(total_customers_by_month, on='YearMonth', suffixes=('_Retained', '_Total'))\n",
    "retention_analysis['RetentionRate'] = (retention_analysis['Customer ID_Retained'] / retention_analysis['Customer ID_Total']) * 100\n",
    "\n",
    "# Plotting the Passenger Retention Rate Chart\n",
    "import matplotlib.pyplot as plt\n",
    "\n",
    "plt.figure(figsize=(12, 8))\n",
    "plt.plot(retention_analysis['YearMonth'].astype(str), retention_analysis['RetentionRate'], marker='o', linestyle='-', color='b')\n",
    "plt.xlabel('Month')\n",
    "plt.ylabel('Retention Rate (%)')\n",
    "plt.title('Passenger Retention Rate Analysis')\n",
    "plt.xticks(rotation=45)\n",
    "plt.grid(True)\n",
    "plt.tight_layout()\n",
    "plt.show()\n"
   ]
  },
  {
   "cell_type": "markdown",
   "id": "a4218e2a-698f-4395-9e97-9d2a1516e933",
   "metadata": {},
   "source": [
    "## Passenger Retention Chart Analysis\n",
    "-------------------------------------------------------\n",
    "#image of chart here"
   ]
  },
  {
   "cell_type": "code",
   "execution_count": null,
   "id": "79ef22c9-9c2c-4037-8e33-6c55a4a1bf8a",
   "metadata": {},
   "outputs": [],
   "source": [
    "#Python code to retrieve the data and create the chart\n"
   ]
  },
  {
   "cell_type": "markdown",
   "id": "cdae4e32-464e-49a5-82d8-32bfb1f785cd",
   "metadata": {},
   "source": [
    "## Number of Passengers By Cab Company (Pink vs. Yellow) Chart Analysis\n",
    "-------------------------------------------------------\n",
    "##image of chart here"
   ]
  },
  {
   "cell_type": "code",
   "execution_count": null,
   "id": "9474b5bb-4d39-4da9-b6f9-5678d11bf2a8",
   "metadata": {},
   "outputs": [],
   "source": [
    "#Python code to retrieve the data and create the chart\n"
   ]
  },
  {
   "cell_type": "markdown",
   "id": "e6232278-0904-4b72-bf39-afe5271afa84",
   "metadata": {},
   "source": [
    "## Number of Passengers By Cab Company in US Cities (Top 3) Chart Analysis\n",
    "-------------------------------------------------------\n",
    "#image of chart here"
   ]
  },
  {
   "cell_type": "code",
   "execution_count": null,
   "id": "5044465c-1f3f-43d7-87d9-d595dd860566",
   "metadata": {},
   "outputs": [],
   "source": [
    "#Python code to retrieve the data and create the chart\n"
   ]
  },
  {
   "cell_type": "markdown",
   "id": "d9414673-1a80-4a0c-b975-ebf0169c21e1",
   "metadata": {},
   "source": [
    "## Number of Passengers By Cab Company From 2016-2018 Chart Analysis\n",
    "#image of chart here"
   ]
  },
  {
   "cell_type": "code",
   "execution_count": null,
   "id": "ab6240e1-4580-4db6-8c26-7cc748ec72a2",
   "metadata": {},
   "outputs": [],
   "source": [
    "#Python code to retrieve the data and create the chart\n"
   ]
  },
  {
   "cell_type": "markdown",
   "id": "7e8c0a90-f80a-44c3-aa70-f10790eabf86",
   "metadata": {},
   "source": [
    "## Number of Rides Daily By Cap Company (Pink vs. Yellow) Chart Analysis\n",
    "#image of chart here"
   ]
  },
  {
   "cell_type": "code",
   "execution_count": null,
   "id": "bbbb7e77-7dff-49a8-ba86-2728b0fc2f13",
   "metadata": {},
   "outputs": [],
   "source": [
    "#Python code to retrieve the data and create the chart\n"
   ]
  },
  {
   "cell_type": "markdown",
   "id": "e2f08b61-85ee-41c0-a106-5763ee51622b",
   "metadata": {},
   "source": [
    "## Quarterly Profits From 2016-2018 Chart Analysis\n",
    "#image of chart here"
   ]
  },
  {
   "cell_type": "code",
   "execution_count": null,
   "id": "2e1edc22-76c3-4d7e-8121-7976ab5bcfef",
   "metadata": {},
   "outputs": [],
   "source": [
    "#Python code to retrieve the data and create the chart\n"
   ]
  },
  {
   "cell_type": "markdown",
   "id": "183c5d87-5cee-40ee-9ed4-3ce2992a2757",
   "metadata": {},
   "source": [
    "## Number of Passengers vs. Number of Rides Throughout the Week By Cap (Pink vs. Yellow) Chart Analysis\n",
    "#image of chart here"
   ]
  },
  {
   "cell_type": "code",
   "execution_count": null,
   "id": "47bc5679-ab82-40db-9bde-6813b47dbd12",
   "metadata": {},
   "outputs": [],
   "source": [
    "#Python code to retrieve the data and create the chart\n"
   ]
  },
  {
   "cell_type": "markdown",
   "id": "4d2613e8-ecfa-43a4-a515-a2b10f172aa6",
   "metadata": {},
   "source": [
    "## Number of Passengers vs. Ride Distance Chart Analysis\n",
    "#image of chart here"
   ]
  },
  {
   "cell_type": "code",
   "execution_count": null,
   "id": "7a1c9cc7-d840-466a-b64d-640330277494",
   "metadata": {},
   "outputs": [],
   "source": [
    "#Python code to retrieve the data and create the chart\n"
   ]
  },
  {
   "cell_type": "markdown",
   "id": "1224851f-23e9-411f-84f1-fa8686529d72",
   "metadata": {},
   "source": [
    "## Passengers Preference During Seasonal Holidays Chart Analysis\n",
    "#image of chart here"
   ]
  },
  {
   "cell_type": "code",
   "execution_count": null,
   "id": "c0e234d6-2a26-4b10-b767-40ac197526a3",
   "metadata": {},
   "outputs": [],
   "source": [
    "#Python code to retrieve the data and create the chart\n"
   ]
  },
  {
   "cell_type": "markdown",
   "id": "eb0ce43e-f5c4-4b65-a6b0-e8738ef24e98",
   "metadata": {},
   "source": [
    "## Future Profit Speculation for the Year 2019\n",
    "#image of chart here"
   ]
  },
  {
   "cell_type": "code",
   "execution_count": null,
   "id": "43f6027c-52bf-4b9b-bb70-95e95a02d1ee",
   "metadata": {},
   "outputs": [],
   "source": [
    "#Python code to retrieve the data and create the chart\n"
   ]
  },
  {
   "cell_type": "markdown",
   "id": "b78e8926-a231-402d-b12b-0e5e001f3639",
   "metadata": {},
   "source": [
    "## Future Speculation of Number of Rides for the Year 2019\n",
    "#image of chart here"
   ]
  },
  {
   "cell_type": "markdown",
   "id": "13b3ee8e-72af-4bb6-a066-dd877e03b809",
   "metadata": {
    "jp-MarkdownHeadingCollapsed": true
   },
   "source": [
    "## Conclusions & Recommendations Based Off The Data Analysis & Charts\n",
    "----------------------------------------------------------\n",
    "- Customer Reach : \n",
    "\n",
    "- Customer Retention Conclusion: \n",
    "\n",
    "- Passenger Age/Gender Observation: \n",
    "\n",
    "- Average Profit vs. Distance Conclusion: \n",
    "\n",
    "- Passenger Income Conclusion: \n",
    "\n",
    "- Number of Rides vs. Profit Conclusion: \n",
    "\n",
    "-------------------\n",
    "## Final Conclusion\n",
    "- From our Exploration Data Analysis , we recommend the <    > Cab for future investments."
   ]
  },
  {
   "cell_type": "code",
   "execution_count": null,
   "id": "cc14e8ea-b81b-4429-9b41-3f0d039420c4",
   "metadata": {},
   "outputs": [],
   "source": []
  }
 ],
 "metadata": {
  "kernelspec": {
   "display_name": "anaconda-panel-2023.05-py310",
   "language": "python",
   "name": "conda-env-anaconda-panel-2023.05-py310-py"
  },
  "language_info": {
   "codemirror_mode": {
    "name": "ipython",
    "version": 3
   },
   "file_extension": ".py",
   "mimetype": "text/x-python",
   "name": "python",
   "nbconvert_exporter": "python",
   "pygments_lexer": "ipython3",
   "version": "3.11.5"
  }
 },
 "nbformat": 4,
 "nbformat_minor": 5
}
